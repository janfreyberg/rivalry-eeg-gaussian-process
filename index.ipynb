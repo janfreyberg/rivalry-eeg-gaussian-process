{
 "cells": [
  {
   "cell_type": "code",
   "execution_count": 61,
   "metadata": {
    "collapsed": false
   },
   "outputs": [],
   "source": [
    "%matplotlib inline\n",
    "\n",
    "import numpy as np\n",
    "from scipy import stats\n",
    "from sklearn.gaussian_process import GaussianProcessClassifier\n",
    "from matplotlib import pyplot as pl\n",
    "from matplotlib import cm\n",
    "import csv\n",
    "from altair import Chart"
   ]
  },
  {
   "cell_type": "code",
   "execution_count": 62,
   "metadata": {
    "collapsed": true
   },
   "outputs": [],
   "source": [
    "participant = 'stratus124'\n",
    "# tested: 125, 132"
   ]
  },
  {
   "cell_type": "code",
   "execution_count": 63,
   "metadata": {
    "collapsed": true
   },
   "outputs": [],
   "source": [
    "# The data is stored in a csv file that has three columns,\n",
    "# one for each frequency and one for the percept report.\n",
    "\n",
    "# Define a function that cleans this data (this is used for)\n",
    "# both the test and the training data later:\n",
    "def cleandata(data):\n",
    "    assert data.shape[1] == 3, \"Data not in the right format.\"\n",
    "    \n",
    "    # trim the data of all timepoints where nothing was reported\n",
    "    # (this usually also removes the beginning and end of trials)\n",
    "    data = data[np.logical_not(np.isnan(data[:, 2])), :]\n",
    "    \n",
    "    # downsample the data (to avoid memory issues!)\n",
    "    downsamplefactor = 18  # choose how much you want to throw out\n",
    "    data = data[np.arange(0, data.shape[0], downsamplefactor), :]\n",
    "    \n",
    "    # split into x and y\n",
    "    x = data[:, 0:2]\n",
    "    y = data[:, 2]\n",
    "    return x, y"
   ]
  },
  {
   "cell_type": "code",
   "execution_count": 64,
   "metadata": {
    "collapsed": false
   },
   "outputs": [],
   "source": [
    "# Load training data from the file matlab generates\n",
    "traindata = np.genfromtxt(participant + '_sim.csv', delimiter=',', skip_header=1,\n",
    "                          missing_values=['NaN', 'nan'], filling_values=None)\n",
    "\n",
    "# Clean this data\n",
    "trainx, trainy = cleandata(traindata)\n",
    "traindata = None  # delete to save memory!"
   ]
  },
  {
   "cell_type": "code",
   "execution_count": 65,
   "metadata": {
    "collapsed": false
   },
   "outputs": [
    {
     "name": "stdout",
     "output_type": "stream",
     "text": [
      "training...\n",
      "fit done..!\n"
     ]
    }
   ],
   "source": [
    "# Create a gaussian process class\n",
    "# nugget is the parameter that defines how much regularization there is\n",
    "# gp = GaussianProcess(theta0=5e-1, thetaL=1e-3, thetaU=3,\n",
    "#                      nugget=1e-12)\n",
    "gp = GaussianProcessClassifier()\n",
    "\n",
    "# train this class on the data\n",
    "print('training...')\n",
    "gp.fit(trainx, trainy)\n",
    "print('fit done..!')\n",
    "\n",
    "# Discard all training data to preserve memory\n",
    "trainx = trainy = None"
   ]
  },
  {
   "cell_type": "code",
   "execution_count": 66,
   "metadata": {
    "collapsed": true
   },
   "outputs": [],
   "source": [
    "# load test data\n",
    "testdata = np.genfromtxt(participant + '_rival.csv', delimiter=',', skip_header=1,\n",
    "                         missing_values=['NaN', 'nan'], filling_values=None)\n",
    "testx, testy = cleandata(testdata)  # clean data\n",
    "testdata = None  # clear from memory"
   ]
  },
  {
   "cell_type": "code",
   "execution_count": 67,
   "metadata": {
    "collapsed": false
   },
   "outputs": [
    {
     "name": "stdout",
     "output_type": "stream",
     "text": [
      "predicting...\n",
      "predicted...!\n"
     ]
    }
   ],
   "source": [
    "# now get a prediction for all points in the test data\n",
    "print('predicting...')\n",
    "predicty = gp.predict(testx)\n",
    "proby = gp.predict_proba(testx)\n",
    "print('predicted...!')"
   ]
  },
  {
   "cell_type": "code",
   "execution_count": 68,
   "metadata": {
    "collapsed": false
   },
   "outputs": [
    {
     "name": "stdout",
     "output_type": "stream",
     "text": [
      "-0.0902255639098+-0.995921356141\n",
      "-0.228187919463+-0.973617108216\n",
      "-0.0501156515035+-0.998743421242\n"
     ]
    }
   ],
   "source": [
    "for percept in [-1, 0, 1]:\n",
    "    print(str(np.mean(predicty[np.equal(testy, percept)])) +\n",
    "          '+-' + str(np.std(predicty[np.equal(testy, percept)])))\n"
   ]
  },
  {
   "cell_type": "code",
   "execution_count": 69,
   "metadata": {
    "collapsed": false
   },
   "outputs": [
    {
     "data": {
      "image/png": "[encoded data removed]",
      "text/plain": [
       "<matplotlib.figure.Figure at 0xa7d9c90>"
      ]
     },
     "metadata": {},
     "output_type": "display_data"
    },
    {
     "data": {
      "image/png": "[encoded data removed]",
      "text/plain": [
       "<matplotlib.figure.Figure at 0x9995330>"
      ]
     },
     "metadata": {},
     "output_type": "display_data"
    },
    {
     "data": {
      "image/png": "[encoded data removed]",
      "text/plain": [
       "<matplotlib.figure.Figure at 0xa711e70>"
      ]
     },
     "metadata": {},
     "output_type": "display_data"
    }
   ],
   "source": [
    "# Categorical Predictions\n",
    "colors = ['gray', 'red', 'blue']\n",
    "for percept in [-1, 0, 1]:\n",
    "    fig = pl.figure(percept)\n",
    "    n, bins, patches = pl.hist(predicty[np.equal(testy, percept)], num_bins, facecolor=colors[percept], alpha=0.5)\n",
    "    pl.title('Percept ' + str(percept))\n"
   ]
  },
  {
   "cell_type": "code",
   "execution_count": 70,
   "metadata": {
    "collapsed": false
   },
   "outputs": [
    {
     "data": {
      "image/png": "[encoded data removed]",
      "text/plain": [
       "<matplotlib.figure.Figure at 0xa2b0310>"
      ]
     },
     "metadata": {},
     "output_type": "display_data"
    },
    {
     "data": {
      "image/png": "[encoded data removed]",
      "text/plain": [
       "<matplotlib.figure.Figure at 0x9fdba30>"
      ]
     },
     "metadata": {},
     "output_type": "display_data"
    },
    {
     "data": {
      "image/png": "[encoded data removed]",
      "text/plain": [
       "<matplotlib.figure.Figure at 0x78ee6f0>"
      ]
     },
     "metadata": {},
     "output_type": "display_data"
    }
   ],
   "source": [
    "# Prediction Probabilities\n",
    "colors = ['gray', 'red', 'blue']\n",
    "num_bins = 50\n",
    "for percept in [-1, 0, 1]:\n",
    "    fig = pl.figure(percept)\n",
    "    n, bins, patches = pl.hist(proby[np.equal(testy, percept), 1], num_bins, facecolor=colors[percept], alpha=0.5)\n",
    "    pl.title('Percept ' + str(percept))"
   ]
  }
 ],
 "metadata": {
  "kernelspec": {
   "display_name": "Python 2",
   "language": "python",
   "name": "python2"
  },
  "language_info": {
   "codemirror_mode": {
    "name": "ipython",
    "version": 2
   },
   "file_extension": ".py",
   "mimetype": "text/x-python",
   "name": "python",
   "nbconvert_exporter": "python",
   "pygments_lexer": "ipython2",
   "version": "2.7.11"
  }
 },
 "nbformat": 4,
 "nbformat_minor": 0
}
